{
 "cells": [
  {
   "cell_type": "markdown",
   "metadata": {
    "collapsed": false,
    "id": "FIl5ePMRnNbH"
   },
   "source": [
    "# Welcome to **MASTERMIND**\n",
    "\n",
    "Today we will be creating Mastermind, a classic game similar to Wordle. The steps of Mastermind are as follows:\n",
    "\n",
    "*   The computer plays first by setting a 4-digit number.\n",
    "*   The user now tries their first attempt at guessing the number.\n",
    "*   If the user succeeds in their first attempt (despite odds which are highly unlikely) they win the game and is crowned Mastermind! If not, then the computer hints by revealing which digits or numbers the user got correct.\n",
    "*   The game continues till the user eventually is able to guess the number entirely.\n",
    "\n",
    "\n"
   ]
  },
  {
   "cell_type": "markdown",
   "metadata": {
    "collapsed": false,
    "id": "PyCFDcrEGhpg"
   },
   "source": [
    "## Some Python Background: Typecasting & Strings\n",
    "In this project, we will most likely use some typecasting. This is where you convert (or *cast*) a piece of data to a certain data type, such as a string or integer. Some of the code below could be useful for you on this project. "
   ]
  },
  {
   "cell_type": "code",
   "execution_count": 1,
   "metadata": {
    "colab": {
     "base_uri": "https://localhost:8080/"
    },
    "collapsed": false,
    "id": "MJ2biGAUG77u",
    "outputId": "9b0571f0-f867-4fac-e2bf-84fec90378bb"
   },
   "outputs": [
    {
     "name": "stdout",
     "output_type": "stream",
     "text": [
      "my_decimal: 150000.0\n"
     ]
    }
   ],
   "source": [
    "#start with a decimal\n",
    "my_decimal = 150000.0\n",
    "print(\"my_decimal:\", my_decimal)\n"
   ]
  },
  {
   "cell_type": "markdown",
   "metadata": {
    "collapsed": false,
    "id": "Q3-oqvm8H6fI"
   },
   "source": [
    "Typecasting lets us convert a piece of data to a different data type. "
   ]
  },
  {
   "cell_type": "code",
   "execution_count": 2,
   "metadata": {
    "colab": {
     "base_uri": "https://localhost:8080/"
    },
    "collapsed": false,
    "id": "6GbIe7mMHeOz",
    "outputId": "9cfb5b3d-61ab-4f36-a9a8-866849e6be80"
   },
   "outputs": [
    {
     "name": "stdout",
     "output_type": "stream",
     "text": [
      "my_integer: 150000\n"
     ]
    }
   ],
   "source": [
    "my_integer = int(my_decimal) #convert the decimal into an integer\n",
    "print(\"my_integer:\", my_integer)"
   ]
  },
  {
   "cell_type": "markdown",
   "metadata": {
    "collapsed": false,
    "id": "86uGwcGTH_Hb"
   },
   "source": [
    "We may want to convert to different data types for processing data. Strings are one way to process numbers digit by digit."
   ]
  },
  {
   "cell_type": "code",
   "execution_count": 3,
   "metadata": {
    "colab": {
     "base_uri": "https://localhost:8080/"
    },
    "collapsed": false,
    "id": "5U_EISMqHeG0",
    "outputId": "b527d926-d35e-4484-8707-19f6eb82e619"
   },
   "outputs": [
    {
     "name": "stdout",
     "output_type": "stream",
     "text": [
      "string_number: 150000\n"
     ]
    }
   ],
   "source": [
    "my_string = str(my_integer) #convert the integer into a string.\n",
    "print(\"string_number:\", my_string)"
   ]
  },
  {
   "cell_type": "markdown",
   "metadata": {
    "collapsed": false,
    "id": "G823cceuHqRv"
   },
   "source": [
    "The reason why strings are powerful for processing numbers digit by digit is because they can be accessed like lists."
   ]
  },
  {
   "cell_type": "code",
   "execution_count": 4,
   "metadata": {
    "colab": {
     "base_uri": "https://localhost:8080/"
    },
    "collapsed": false,
    "id": "VuYJEIrHHtvS",
    "outputId": "92e67438-8377-4c41-9443-19f5ddff9a4e"
   },
   "outputs": [
    {
     "name": "stdout",
     "output_type": "stream",
     "text": [
      "1 5 0 0 0 0\n"
     ]
    }
   ],
   "source": [
    "print(my_string[0], my_string[1], my_string[2], my_string[3], my_string[4], my_string[5])"
   ]
  },
  {
   "cell_type": "code",
   "execution_count": 5,
   "metadata": {
    "colab": {
     "base_uri": "https://localhost:8080/"
    },
    "collapsed": false,
    "id": "P2n9yz-9Hd-V",
    "outputId": "0d4f2a26-314b-4720-a4ef-6ecbcaffc2ed"
   },
   "outputs": [
    {
     "name": "stdout",
     "output_type": "stream",
     "text": [
      "1\n",
      "5\n",
      "0\n",
      "0\n",
      "0\n",
      "0\n"
     ]
    }
   ],
   "source": [
    "for i in range(len(my_string)):\n",
    "  print(my_string[i])"
   ]
  },
  {
   "cell_type": "markdown",
   "metadata": {
    "collapsed": false,
    "id": "MywCq7XjDo7z"
   },
   "source": [
    "## Step 1: Setting a four digit number\n",
    "For this step, our program needs to set a random 4-digit number for the user to guess. It would make sense that this number is any number inbetween 1000 and 9999 right? \n",
    "\n",
    "We recommend checking out how to get random numbers in python. Maybe a google search of \"Get a random number in a certain range python\" is a good start. You should set this number to a variable to save for later. If you are stuck, look back at our old projects"
   ]
  },
  {
   "cell_type": "code",
   "execution_count": 6,
   "metadata": {
    "collapsed": false,
    "id": "2IAA6A4ZnLXx"
   },
   "outputs": [
   ],
   "source": [
    "#get a four digit integer between 1000 and 9999 and set it to a variable."
   ]
  },
  {
   "cell_type": "markdown",
   "metadata": {
    "collapsed": false,
    "id": "yl0IqDTEEzHB"
   },
   "source": [
    "## Step 2: Get the user's guess\n",
    "The user is now going to try to guess the 4-digit number. You should get `input()` from the user and set their guess to an integer. \n",
    "\n",
    "If you run into issues, try to google how to get integer input from a user in python!"
   ]
  },
  {
   "cell_type": "code",
   "execution_count": 7,
   "metadata": {
    "collapsed": false,
    "id": "djIIncFBFQ1_"
   },
   "outputs": [
   ],
   "source": [
    "#prompt the user for input and set the guess to an integer.\n"
   ]
  },
  {
   "cell_type": "markdown",
   "metadata": {
    "collapsed": false,
    "id": "gxclhNPSFYdB"
   },
   "source": [
    "## Step 3: See if the user succeeds in first try\n",
    "In this part, we need to check `if` the user's guess is correct and equal to the random four-digit integer the computer generated.\n",
    "\n",
    "If the user's guess is correct, you should output something like: \n",
    "\n",
    "\n",
    "> \"Great! You only needed 1 try! You're a Mastermind!\"\n",
    "\n",
    "Else, then the computer hints by revealing which digits or numbers the user got correct."
   ]
  },
  {
   "cell_type": "code",
   "execution_count": 8,
   "metadata": {
    "collapsed": false,
    "id": "ustwEFoqFkWO"
   },
   "outputs": [
   ],
   "source": [
    "#check if the user's guess is correct\n",
    "\n",
    "#Otherwise, reveal which digits or numbers the user got correct - HINT: use string typecasting to determine which specific numbers are correct!"
   ]
  },
  {
   "cell_type": "markdown",
   "metadata": {
    "collapsed": false,
    "id": "pSDfXUdfGD1u"
   },
   "source": [
    "## Step 4: Continue in a loop.\n",
    "\n",
    "When our user is wrong, we need to let them guess again and keep a `count` of how many guesses they have used so far. We will keep looping until our user's guess is equal to the hidden number.\n",
    "\n",
    "For repetitive tasks in python, we usually use a `while` or a `for` loop. `While` loops continue executing code in a loop until a certain condition is met, and `for` loops typically are used for iterating across a piece of data. \n",
    "\n",
    "> DISCUSS: Discuss with your team and instructor which type of  loop would be better for this case.\n",
    "\n"
   ]
  },
  {
   "cell_type": "code",
   "execution_count": 9,
   "metadata": {
    "collapsed": false,
    "id": "r7xV_F6pSiAS"
   },
   "outputs": [
   ],
   "source": [
    "# Loop until the number guessed is equal to the hidden random number\n",
    "# in each loop, process the user's guess and reveal which digits or numbers the user got correct each round. "
   ]
  },
  {
   "cell_type": "markdown",
   "metadata": {
    "collapsed": false,
    "id": "MO1CHHGrSjHn"
   },
   "source": [
    "## Put it all together\n",
    "Combine all of your code from the previous steps below to make one smooth running program that will let a user play mastermind!"
   ]
  },
  {
   "cell_type": "code",
   "execution_count": 11,
   "metadata": {
    "cocalc": {
     "outputs": {
      "0": {
       "name": "input",
       "opts": {
        "password": false,
        "prompt": "Please input 4 digit guess. "
       },
       "output_type": "stream",
       "value": "1111"
      },
      "1": {
       "name": "input",
       "opts": {
        "password": false,
        "prompt": "Please input 4 digit guess. "
       },
       "output_type": "stream"
      }
     }
    },
    "collapsed": false
   },
   "outputs": [
    {
     "name": "stdout",
     "output_type": "stream",
     "text": "Please input 4 digit guess.  1111"
    },
    {
     "name": "stdout",
     "output_type": "stream",
     "text": "Please input 4 digit guess.  "
    },
    {
     "name": "stdout",
     "output_type": "stream",
     "text": [
      "['X', 'X', 'X', 'X']\n"
     ],
     "value": ""
    },
    {
     "ename": "IndexError",
     "evalue": "list index out of range",
     "output_type": "error",
     "traceback": [
      "\u001b[0;31m---------------------------------------------------------------------------\u001b[0m",
      "\u001b[0;31mIndexError\u001b[0m                                Traceback (most recent call last)",
      "\u001b[0;32m/tmp/ipykernel_22566/4127207266.py\u001b[0m in \u001b[0;36m<module>\u001b[0;34m\u001b[0m\n\u001b[1;32m     12\u001b[0m \u001b[0;32mwhile\u001b[0m \u001b[0mguess\u001b[0m \u001b[0;34m!=\u001b[0m \u001b[0mnumber\u001b[0m\u001b[0;34m:\u001b[0m\u001b[0;34m\u001b[0m\u001b[0;34m\u001b[0m\u001b[0m\n\u001b[1;32m     13\u001b[0m \u001b[0;34m\u001b[0m\u001b[0m\n\u001b[0;32m---> 14\u001b[0;31m     \u001b[0;32mif\u001b[0m \u001b[0mguess\u001b[0m\u001b[0;34m[\u001b[0m\u001b[0;36m0\u001b[0m\u001b[0;34m]\u001b[0m \u001b[0;34m==\u001b[0m \u001b[0mnumber\u001b[0m\u001b[0;34m[\u001b[0m\u001b[0;36m0\u001b[0m\u001b[0;34m]\u001b[0m\u001b[0;34m:\u001b[0m\u001b[0;34m\u001b[0m\u001b[0;34m\u001b[0m\u001b[0m\n\u001b[0m\u001b[1;32m     15\u001b[0m         \u001b[0moutput\u001b[0m\u001b[0;34m[\u001b[0m\u001b[0;36m0\u001b[0m\u001b[0;34m]\u001b[0m \u001b[0;34m=\u001b[0m \u001b[0mnumber\u001b[0m \u001b[0;34m[\u001b[0m\u001b[0;36m0\u001b[0m\u001b[0;34m]\u001b[0m\u001b[0;34m\u001b[0m\u001b[0;34m\u001b[0m\u001b[0m\n\u001b[1;32m     16\u001b[0m     \u001b[0;32melse\u001b[0m\u001b[0;34m:\u001b[0m\u001b[0;34m\u001b[0m\u001b[0;34m\u001b[0m\u001b[0m\n",
      "\u001b[0;31mIndexError\u001b[0m: list index out of range"
     ],
     "value": "2222"
    }
   ],
   "source": [
    "import random\n",
    "counter = 0\n",
    "\n",
    "number = [random.randrange(1, 10) for i in range(4)]\n",
    "output = [0, 0, 0, 0]\n",
    "\n",
    "x = input(\"Please input 4 digit guess. \")\n",
    "guess = [int(a) for a in str(x)] #takes each number that you inputed and puts it into a list\n",
    "\n",
    "counter += 1\n",
    "\n",
    "while guess != number:\n",
    "\n",
    "    if guess[0] == number[0]:\n",
    "        output[0] = number [0]\n",
    "    else:\n",
    "        output[0] = \"X\"\n",
    "\n",
    "    if guess[1] == number[1]:\n",
    "        output[1] = number [1]\n",
    "    else:\n",
    "        output[1] = \"X\"\n",
    "\n",
    "    if guess[2] == number[2]:\n",
    "        output[2] = number [2]\n",
    "    else:\n",
    "        output[2] = \"X\" \n",
    "\n",
    "    if guess[3] == number[3]:\n",
    "        output[3] = number [3]\n",
    "    else:\n",
    "        output[3] = \"X\"\n",
    "\n",
    "    print(output)\n",
    "    counter += 1\n",
    "    \n",
    "    x = input(\"Please input 4 digit guess. \")\n",
    "    guess = [int(a) for a in str(x)] #takes each number that you inputed and puts it into a list\n",
    "\n",
    "if counter >= 5:\n",
    "    print(\"Good Job! You finished in \" + str(counter) + \" tries. \")\n",
    "\n",
    "elif counter <= 5 and counter >= 2:\n",
    "    print(\"You are truly a mastermind! You finished in \" + str(counter) + \" tries. \")\n",
    "\n",
    "elif counter == 1:\n",
    "    print(\"I nominate you for the nobel prize, you finished in  \" + str(counter) + \" try.\")"
   ]
  },
  {
   "cell_type": "markdown",
   "metadata": {
    "collapsed": false,
    "id": "28KLAYM7SlPC"
   },
   "source": [
    "import random\n",
    "counter = 0\n",
    "\n",
    "number = [random.randrange(1, 10) for i in range(4)]\n",
    "output = [0, 0, 0, 0]\n",
    "\n",
    "x = input(\"Please input 4 digit guess. \")\n",
    "guess = [int(a) for a in str(x)] #takes each number that you inputed and puts it into a list\n",
    "\n",
    "counter += 1\n",
    "\n",
    "while guess != number:\n",
    "\n",
    "    if guess[0] == number[0]:\n",
    "        output[0] = number [0]\n",
    "    else:\n",
    "        output[0] = \"X\"\n",
    "\n",
    "    if guess[1] == number[1]:\n",
    "        output[1] = number [1]\n",
    "    else:\n",
    "        output[1] = \"X\"\n",
    "\n",
    "    if guess[2] == number[2]:\n",
    "        output[2] = number [2]\n",
    "    else:\n",
    "        output[2] = \"X\" \n",
    "\n",
    "    if guess[3] == number[3]:\n",
    "        output[3] = number [3]\n",
    "    else:\n",
    "        output[3] = \"X\"\n",
    "\n",
    "    print(output)\n",
    "\n",
    "    x = input(\"Please input 4 digit guess. \")\n",
    "    guess = [int(a) for a in str(x)] #takes each number that you inputed and puts it into a list\n",
    "\n",
    "if counter >= 5:\n",
    "    print(\"Good Job! You finished in \" + str(counter) + \" tries. \")\n",
    "\n",
    "elif counter <= 5 and counter >= 2:\n",
    "    print(\"You are truly a mastermind! You finished in \" + str(counter) + \" tries. \")\n",
    "\n",
    "elif counter == 1:\n",
    "    print(\"I nominate you for the nobel prize, you finished in  \" + str(counter) + \" try.\")\n",
    "\n"
   ]
  },
  {
   "cell_type": "code",
   "execution_count": 12,
   "metadata": {
    "cocalc": {
     "outputs": {
      "0": {
       "name": "input",
       "opts": {
        "password": false,
        "prompt": "Please input 4 digit guess. "
       },
       "output_type": "stream",
       "value": "1111"
      },
      "11": {
       "name": "input",
       "opts": {
        "password": false,
        "prompt": "Please input 4 digit guess. "
       },
       "output_type": "stream"
      },
      "13": {
       "name": "input",
       "opts": {
        "password": false,
        "prompt": "Please input 4 digit guess. "
       },
       "output_type": "stream"
      },
      "16": {
       "name": "input",
       "opts": {
        "password": false,
        "prompt": "Please input 4 digit guess. "
       },
       "output_type": "stream",
       "value": "31253333"
      },
      "17": {
       "name": "input",
       "opts": {
        "password": false,
        "prompt": "Please input 4 digit guess. "
       },
       "output_type": "stream"
      },
      "2": {
       "name": "input",
       "opts": {
        "password": false,
        "prompt": "Please input 4 digit guess. "
       },
       "output_type": "stream",
       "value": "3333"
      },
      "4": {
       "name": "input",
       "opts": {
        "password": false,
        "prompt": "Please input 4 digit guess. "
       },
       "output_type": "stream",
       "value": "3444"
      },
      "6": {
       "name": "input",
       "opts": {
        "password": false,
        "prompt": "Please input 4 digit guess. "
       },
       "output_type": "stream",
       "value": "334567"
      },
      "8": {
       "name": "input",
       "opts": {
        "password": false,
        "prompt": "Please input 4 digit guess. "
       },
       "output_type": "stream",
       "value": "124534524"
      },
      "9": {
       "name": "input",
       "opts": {
        "password": false,
        "prompt": "Please input 4 digit guess. "
       },
       "output_type": "stream"
      }
     }
    },
    "collapsed": false
   },
   "outputs": [
    {
     "name": "stdout",
     "output_type": "stream",
     "text": "Please input 4 digit guess.  1111"
    },
    {
     "name": "stdout",
     "output_type": "stream",
     "text": [
      "['X', 'X', 'X', 'X']\n"
     ]
    },
    {
     "name": "stdout",
     "output_type": "stream",
     "text": "Please input 4 digit guess.  3333"
    },
    {
     "name": "stdout",
     "output_type": "stream",
     "text": [
      "[3, 'X', 'X', 'X']\n"
     ]
    },
    {
     "name": "stdout",
     "output_type": "stream",
     "text": "Please input 4 digit guess.  3444"
    },
    {
     "name": "stdout",
     "output_type": "stream",
     "text": [
      "[3, 'X', 'X', 'X']\n"
     ]
    },
    {
     "name": "stdout",
     "output_type": "stream",
     "text": "Please input 4 digit guess.  334567"
    },
    {
     "name": "stdout",
     "output_type": "stream",
     "text": [
      "[3, 'X', 'X', 5]\n"
     ]
    },
    {
     "name": "stdout",
     "output_type": "stream",
     "text": "Please input 4 digit guess.  124534524"
    },
    {
     "name": "stdout",
     "output_type": "stream",
     "text": "Please input 4 digit guess.  "
    },
    {
     "name": "stdout",
     "output_type": "stream",
     "text": [
      "['X', 'X', 'X', 5]\n"
     ],
     "value": "12535"
    },
    {
     "name": "stdout",
     "output_type": "stream",
     "text": "Please input 4 digit guess.  "
    },
    {
     "name": "stdout",
     "output_type": "stream",
     "text": [
      "['X', 'X', 'X', 'X']\n"
     ],
     "value": "12343234"
    },
    {
     "name": "stdout",
     "output_type": "stream",
     "text": "Please input 4 digit guess.  "
    },
    {
     "name": "stdout",
     "output_type": "stream",
     "text": [
      "['X', 'X', 'X', 'X']\n"
     ],
     "value": "32345234"
    },
    {
     "name": "stdout",
     "output_type": "stream",
     "text": [
      "[3, 'X', 'X', 'X']\n"
     ]
    },
    {
     "name": "stdout",
     "output_type": "stream",
     "text": "Please input 4 digit guess.  31253333"
    },
    {
     "name": "stdout",
     "output_type": "stream",
     "text": "Please input 4 digit guess.  "
    },
    {
     "name": "stdout",
     "output_type": "stream",
     "text": [
      "[3, 'X', 'X', 5]\n"
     ]
    }
   ],
   "source": [
    "import random\n",
    "counter = 0\n",
    "\n",
    "break = input(\"Do you want to stop? \")\n",
    "\n",
    "while break != \"Yes\" or \"yes\":\n",
    "  break = input(\"Do you want to stop? \")\n",
    "  question = input(\"How many numbers do you want to play with?\")\n",
    "  \n",
    "  if question == 1:\n",
    "      \n",
    "      number = [random.randrange(1, 10) for i in range(1)]\n",
    "      output = [0]\n",
    "  \n",
    "      x = input(\"Please input 1 digit guess. \")\n",
    "      guess = [int(a) for a in str(x)] #takes each number that you inputed and puts it into a list\n",
    "  \n",
    "      counter += 1\n",
    "  \n",
    "      while guess != number:\n",
    "  \n",
    "          if guess[0] == number[0]:\n",
    "              output[0] = number [0]\n",
    "          else:\n",
    "              output[0] = \"X\"\n",
    "  \n",
    "          print(output)\n",
    "  \n",
    "          x = input(\"Please input 1 digit guess. \")\n",
    "          guess = [int(a) for a in str(x)] #takes each number that you inputed and puts it into a list\n",
    "  \n",
    "      if counter >= 5:\n",
    "          print(\"Good Job! You finished in \" + str(counter) + \" tries. \")\n",
    "  \n",
    "      elif counter <= 5 and counter >= 2:\n",
    "          print(\"You are truly a mastermind! You finished in \" + str(counter) + \" tries. \")\n",
    "  \n",
    "      elif counter == 1:\n",
    "          print(\"I nominate you for the nobel prize, you finished in  \" + str(counter) + \" try.\")\n",
    "  \n",
    "  elif question == 2:\n",
    "  \n",
    "      number = [random.randrange(1, 10) for i in range(2)]\n",
    "      output = [0, 0]\n",
    "  \n",
    "      x = input(\"Please input 2 digit guess. \")\n",
    "      guess = [int(a) for a in str(x)] #takes each number that you inputed and puts it into a list\n",
    "  \n",
    "      counter += 1\n",
    "  \n",
    "      while guess != number:\n",
    "  \n",
    "          if guess[0] == number[0]:\n",
    "              output[0] = number [0]\n",
    "          else:\n",
    "              output[0] = \"X\"\n",
    "  \n",
    "          if guess[1] == number[1]:\n",
    "              output[1] = number [1]\n",
    "          else:\n",
    "              output[1] = \"X\"\n",
    "  \n",
    "          print(output)\n",
    "  \n",
    "          x = input(\"Please input 2 digit guess. \")\n",
    "          guess = [int(a) for a in str(x)] #takes each number that you inputed and puts it into a list\n",
    "  \n",
    "      if counter >= 5:\n",
    "          print(\"Good Job! You finished in \" + str(counter) + \" tries. \")\n",
    "  \n",
    "      elif counter <= 5 and counter >= 2:\n",
    "          print(\"You are truly a mastermind! You finished in \" + str(counter) + \" tries. \")\n",
    "  \n",
    "      elif counter == 1:\n",
    "          print(\"I nominate you for the nobel prize, you finished in  \" + str(counter) + \" try.\")\n",
    "  \n",
    "  elif question == 3:\n",
    "    number = [random.randrange(1, 10) for i in range(3)]\n",
    "    output = [0, 0, 0]\n",
    "    \n",
    "    x = input(\"Please input 3 digit guess. \")\n",
    "    guess = [int(a) for a in str(x)] #takes each number that you inputed and puts it into a list\n",
    "    \n",
    "    counter += 1\n",
    "    \n",
    "    while guess != number:\n",
    "    \n",
    "        if guess[0] == number[0]:\n",
    "            output[0] = number [0]\n",
    "        else:\n",
    "            output[0] = \"X\"\n",
    "    \n",
    "        if guess[1] == number[1]:\n",
    "            output[1] = number [1]\n",
    "        else:\n",
    "            output[1] = \"X\"\n",
    "    \n",
    "        if guess[2] == number[2]:\n",
    "            output[2] = number [2]\n",
    "        else:\n",
    "            output[2] = \"X\" \n",
    "          \n",
    "        print(output)\n",
    "    \n",
    "        x = input(\"Please input 4 digit guess. \")\n",
    "        guess = [int(a) for a in str(x)] #takes each number that you inputed and puts it into a list\n",
    "    \n",
    "    if counter >= 5:\n",
    "        print(\"Good Job! You finished in \" + str(counter) + \" tries. \")\n",
    "    \n",
    "    elif counter <= 5 and counter >= 2:\n",
    "        print(\"You are truly a mastermind! You finished in \" + str(counter) + \" tries. \")\n",
    "    \n",
    "    elif counter == 1:\n",
    "        print(\"I nominate you for the nobel prize, you finished in  \" + str(counter) + \" try.\")    \n",
    "  \n",
    "  elif question == 4:\n",
    "    number = [random.randrange(1, 10) for i in range(4)]\n",
    "    output = [0, 0, 0, 0]\n",
    "    \n",
    "    x = input(\"Please input 4 digit guess. \")\n",
    "    guess = [int(a) for a in str(x)] #takes each number that you inputed and puts it into a list\n",
    "    \n",
    "    counter += 1\n",
    "    \n",
    "    while guess != number:\n",
    "    \n",
    "        if guess[0] == number[0]:\n",
    "            output[0] = number [0]\n",
    "        else:\n",
    "            output[0] = \"X\"\n",
    "    \n",
    "        if guess[1] == number[1]:\n",
    "            output[1] = number [1]\n",
    "        else:\n",
    "            output[1] = \"X\"\n",
    "    \n",
    "        if guess[2] == number[2]:\n",
    "            output[2] = number [2]\n",
    "        else:\n",
    "            output[2] = \"X\" \n",
    "    \n",
    "        if guess[3] == number[3]:\n",
    "            output[3] = number [3]\n",
    "        else:\n",
    "            output[3] = \"X\"\n",
    "    \n",
    "        print(output)\n",
    "    \n",
    "        x = input(\"Please input 4 digit guess. \")\n",
    "        guess = [int(a) for a in str(x)] #takes each number that you inputed and puts it into a list\n",
    "    \n",
    "    if counter >= 5:\n",
    "        print(\"Good Job! You finished in \" + str(counter) + \" tries. \")\n",
    "    \n",
    "    elif counter <= 5 and counter >= 2:\n",
    "        print(\"You are truly a mastermind! You finished in \" + str(counter) + \" tries. \")\n",
    "    \n",
    "    elif counter == 1:\n",
    "        print(\"I nominate you for the nobel prize, you finished in  \" + str(counter) + \" try.\")\n",
    "        \n",
    "  elif question == 5:\n",
    "    number = [random.randrange(1, 10) for i in range(5)]\n",
    "    output = [0, 0, 0, 0, 0]\n",
    "    \n",
    "    x = input(\"Please input 5 digit guess. \")\n",
    "    guess = [int(a) for a in str(x)] #takes each number that you inputed and puts it into a list\n",
    "    \n",
    "    counter += 1\n",
    "    \n",
    "    while guess != number:\n",
    "    \n",
    "        if guess[0] == number[0]:\n",
    "            output[0] = number [0]\n",
    "        else:\n",
    "            output[0] = \"X\"\n",
    "    \n",
    "        if guess[1] == number[1]:\n",
    "            output[1] = number [1]\n",
    "        else:\n",
    "            output[1] = \"X\"\n",
    "    \n",
    "        if guess[2] == number[2]:\n",
    "            output[2] = number [2]\n",
    "        else:\n",
    "            output[2] = \"X\" \n",
    "    \n",
    "        if guess[3] == number[3]:\n",
    "            output[3] = number [3]\n",
    "        else:\n",
    "            output[3] = \"X\"\n",
    "    \n",
    "        if guess[4] == number[4]\n",
    "            output[4] = number[4]\n",
    "        else:\n",
    "          output[4] = \"X\"\n",
    "    \n",
    "        print(output)\n",
    "    \n",
    "        x = input(\"Please input 4 digit guess. \")\n",
    "        guess = [int(a) for a in str(x)] #takes each number that you inputed and puts it into a list\n",
    "    \n",
    "    if counter >= 5:\n",
    "        print(\"Good Job! You finished in \" + str(counter) + \" tries. \")\n",
    "    \n",
    "    elif counter <= 5 and counter >= 2:\n",
    "        print(\"You are truly a mastermind! You finished in \" + str(counter) + \" tries. \")\n",
    "    \n",
    "    elif counter == 1:\n",
    "        print(\"I nominate you for the nobel prize, you finished in  \" + str(counter) + \" try.\")\n",
    "  \n",
    "  elif question == 6:\n",
    "    number = [random.randrange(1, 10) for i in range(6)]\n",
    "      output = [0, 0, 0, 0, 0, 0]\n",
    "      \n",
    "      x = input(\"Please input 6 digit guess. \")\n",
    "      guess = [int(a) for a in str(x)] #takes each number that you inputed and puts it into a list\n",
    "      \n",
    "      counter += 1\n",
    "      \n",
    "      while guess != number:\n",
    "      \n",
    "          if guess[0] == number[0]:\n",
    "              output[0] = number [0]\n",
    "          else:\n",
    "              output[0] = \"X\"\n",
    "      \n",
    "          if guess[1] == number[1]:\n",
    "              output[1] = number [1]\n",
    "          else:\n",
    "              output[1] = \"X\"\n",
    "      \n",
    "          if guess[2] == number[2]:\n",
    "              output[2] = number [2]\n",
    "          else:\n",
    "              output[2] = \"X\" \n",
    "      \n",
    "          if guess[3] == number[3]:\n",
    "              output[3] = number [3]\n",
    "          else:\n",
    "              output[3] = \"X\"\n",
    "      \n",
    "          if guess[4] == number[4]\n",
    "            output[4] = number[4]\n",
    "          else:\n",
    "            output[4] = \"X\"\n",
    "  \n",
    "          if guess[5] == number[5]\n",
    "            output[5] = number[5]\n",
    "          else:\n",
    "            output[5] = \"X\"\n",
    "      \n",
    "          print(output)\n",
    "      \n",
    "          x = input(\"Please input 4 digit guess. \")\n",
    "          guess = [int(a) for a in str(x)] #takes each number that you inputed and puts it into a list\n",
    "      \n",
    "      if counter >= 5:\n",
    "          print(\"Good Job! You finished in \" + str(counter) + \" tries. \")\n",
    "      \n",
    "      elif counter <= 5 and counter >= 2:\n",
    "          print(\"You are truly a mastermind! You finished in \" + str(counter) + \" tries. \")\n",
    "      \n",
    "      elif counter == 1:\n",
    "          print(\"I nominate you for the nobel prize, you finished in  \" + str(counter) + \" try.\")\n",
    "    \n",
    "    \n",
    "  elif question == 7:\n",
    "    number = [random.randrange(1, 10) for i in range(7)]\n",
    "      output = [0, 0, 0, 0, 0, 0, 0]\n",
    "      \n",
    "      x = input(\"Please input 6 digit guess. \")\n",
    "      guess = [int(a) for a in str(x)] #takes each number that you inputed and puts it into a list\n",
    "      \n",
    "      counter += 1\n",
    "      \n",
    "      while guess != number:\n",
    "      \n",
    "          if guess[0] == number[0]:\n",
    "              output[0] = number [0]\n",
    "          else:\n",
    "              output[0] = \"X\"\n",
    "      \n",
    "          if guess[1] == number[1]:\n",
    "              output[1] = number [1]\n",
    "          else:\n",
    "              output[1] = \"X\"\n",
    "      \n",
    "          if guess[2] == number[2]:\n",
    "              output[2] = number [2]\n",
    "          else:\n",
    "              output[2] = \"X\" \n",
    "      \n",
    "          if guess[3] == number[3]:\n",
    "              output[3] = number [3]\n",
    "          else:\n",
    "              output[3] = \"X\"\n",
    "      \n",
    "          if guess[4] == number[4]\n",
    "            output[4] = number[4]\n",
    "          else:\n",
    "            output[4] = \"X\"\n",
    "  \n",
    "          if guess[5] == number[5]\n",
    "            output[5] = number[5]\n",
    "          else:\n",
    "            output[5] = \"X\"\n",
    "  \n",
    "          if guess[6] == number[6]\n",
    "            output[6] = number[6]\n",
    "          else:\n",
    "            output[6] = \"X\"\n",
    "      \n",
    "          print(output)\n",
    "      \n",
    "          x = input(\"Please input 4 digit guess. \")\n",
    "          guess = [int(a) for a in str(x)] #takes each number that you inputed and puts it into a list\n",
    "      \n",
    "      if counter >= 5:\n",
    "          print(\"Good Job! You finished in \" + str(counter) + \" tries. \")\n",
    "      \n",
    "      elif counter <= 5 and counter >= 2:\n",
    "          print(\"You are truly a mastermind! You finished in \" + str(counter) + \" tries. \")\n",
    "      \n",
    "      elif counter == 1:\n",
    "          print(\"I nominate you for the nobel prize, you finished in  \" + str(counter) + \" try.\")\n",
    "      \n",
    "  \n",
    "  elif question == 8:\n",
    "     number = [random.randrange(1, 10) for i in range(8)]\n",
    "      output = [0, 0, 0, 0, 0, 0, 0, 0]\n",
    "      \n",
    "      x = input(\"Please input 6 digit guess. \")\n",
    "      guess = [int(a) for a in str(x)] #takes each number that you inputed and puts it into a list\n",
    "      \n",
    "      counter += 1\n",
    "      \n",
    "      while guess != number:\n",
    "      \n",
    "          if guess[0] == number[0]:\n",
    "              output[0] = number [0]\n",
    "          else:\n",
    "              output[0] = \"X\"\n",
    "      \n",
    "          if guess[1] == number[1]:\n",
    "              output[1] = number [1]\n",
    "          else:\n",
    "              output[1] = \"X\"\n",
    "      \n",
    "          if guess[2] == number[2]:\n",
    "              output[2] = number [2]\n",
    "          else:\n",
    "              output[2] = \"X\" \n",
    "      \n",
    "          if guess[3] == number[3]:\n",
    "              output[3] = number [3]\n",
    "          else:\n",
    "              output[3] = \"X\"\n",
    "      \n",
    "          if guess[4] == number[4]\n",
    "            output[4] = number[4]\n",
    "          else:\n",
    "            output[4] = \"X\"\n",
    "  \n",
    "          if guess[5] == number[5]\n",
    "            output[5] = number[5]\n",
    "          else:\n",
    "            output[5] = \"X\"\n",
    "  \n",
    "          if guess[6] == number[6]\n",
    "            output[6] = number[6]\n",
    "          else:\n",
    "            output[6] = \"X\"\n",
    "  \n",
    "          if guess[7] == number[7]\n",
    "            output[7] = number[7]\n",
    "          else:\n",
    "            output[7] = \"X\"\n",
    "      \n",
    "          print(output)\n",
    "      \n",
    "          x = input(\"Please input 4 digit guess. \")\n",
    "          guess = [int(a) for a in str(x)] #takes each number that you inputed and puts it into a list\n",
    "      \n",
    "      if counter >= 5:\n",
    "          print(\"Good Job! You finished in \" + str(counter) + \" tries. \")\n",
    "      \n",
    "      elif counter <= 5 and counter >= 2:\n",
    "          print(\"You are truly a mastermind! You finished in \" + str(counter) + \" tries. \")\n",
    "      \n",
    "      elif counter == 1:\n",
    "          print(\"I nominate you for the nobel prize, you finished in  \" + str(counter) + \" try.\")\n",
    "         \n",
    "  elif question == 9:\n",
    "       number = [random.randrange(1, 10) for i in range(9)]\n",
    "      output = [0, 0, 0, 0, 0, 0, 0, 0, 0]\n",
    "      \n",
    "      x = input(\"Please input 6 digit guess. \")\n",
    "      guess = [int(a) for a in str(x)] #takes each number that you inputed and puts it into a list\n",
    "      \n",
    "      counter += 1\n",
    "      \n",
    "      while guess != number:\n",
    "      \n",
    "          if guess[0] == number[0]:\n",
    "              output[0] = number [0]\n",
    "          else:\n",
    "              output[0] = \"X\"\n",
    "      \n",
    "          if guess[1] == number[1]:\n",
    "              output[1] = number [1]\n",
    "          else:\n",
    "              output[1] = \"X\"\n",
    "      \n",
    "          if guess[2] == number[2]:\n",
    "              output[2] = number [2]\n",
    "          else:\n",
    "              output[2] = \"X\" \n",
    "      \n",
    "          if guess[3] == number[3]:\n",
    "              output[3] = number [3]\n",
    "          else:\n",
    "              output[3] = \"X\"\n",
    "      \n",
    "          if guess[4] == number[4]\n",
    "            output[4] = number[4]\n",
    "          else:\n",
    "            output[4] = \"X\"\n",
    "  \n",
    "          if guess[5] == number[5]\n",
    "            output[5] = number[5]\n",
    "          else:\n",
    "            output[5] = \"X\"\n",
    "  \n",
    "          if guess[6] == number[6]\n",
    "            output[6] = number[6]\n",
    "          else:\n",
    "            output[6] = \"X\"\n",
    "  \n",
    "          if guess[7] == number[7]\n",
    "            output[7] = number[7]\n",
    "          else:\n",
    "            output[7] = \"X\"\n",
    "  \n",
    "          if guess[8] == number[8]\n",
    "            output[8] = number[8]\n",
    "          else:\n",
    "            output[8] = \"X\"\n",
    "      \n",
    "          print(output)\n",
    "      \n",
    "          x = input(\"Please input 4 digit guess. \")\n",
    "          guess = [int(a) for a in str(x)] #takes each number that you inputed and puts it into a list\n",
    "      \n",
    "      if counter >= 5:\n",
    "          print(\"Good Job! You finished in \" + str(counter) + \" tries. \")\n",
    "      \n",
    "      elif counter <= 5 and counter >= 2:\n",
    "          print(\"You are truly a mastermind! You finished in \" + str(counter) + \" tries. \")\n",
    "      \n",
    "      elif counter == 1:\n",
    "          print(\"I nominate you for the nobel prize, you finished in  \" + str(counter) + \" try.\")\n",
    "      \n",
    "  \n",
    "  elif question == 10:\n",
    "     number = [random.randrange(1, 10) for i in range(10)]\n",
    "      output = [0, 0, 0, 0, 0, 0, 0, 0, 0, 0]\n",
    "      \n",
    "      x = input(\"Please input 6 digit guess. \")\n",
    "      guess = [int(a) for a in str(x)] #takes each number that you inputed and puts it into a list\n",
    "      \n",
    "      counter += 1\n",
    "      \n",
    "      while guess != number:\n",
    "      \n",
    "          if guess[0] == number[0]:\n",
    "              output[0] = number [0]\n",
    "          else:\n",
    "              output[0] = \"X\"\n",
    "      \n",
    "          if guess[1] == number[1]:\n",
    "              output[1] = number [1]\n",
    "          else:\n",
    "              output[1] = \"X\"\n",
    "      \n",
    "          if guess[2] == number[2]:\n",
    "              output[2] = number [2]\n",
    "          else:\n",
    "              output[2] = \"X\" \n",
    "      \n",
    "          if guess[3] == number[3]:\n",
    "              output[3] = number [3]\n",
    "          else:\n",
    "              output[3] = \"X\"\n",
    "      \n",
    "          if guess[4] == number[4]\n",
    "            output[4] = number[4]\n",
    "          else:\n",
    "            output[4] = \"X\"\n",
    "  \n",
    "          if guess[5] == number[5]\n",
    "            output[5] = number[5]\n",
    "          else:\n",
    "            output[5] = \"X\"\n",
    "  \n",
    "          if guess[6] == number[6]\n",
    "            output[6] = number[6]\n",
    "          else:\n",
    "            output[6] = \"X\"\n",
    "  \n",
    "          if guess[7] == number[7]\n",
    "            output[7] = number[7]\n",
    "          else:\n",
    "            output[7] = \"X\"\n",
    "  \n",
    "          if guess[8] == number[8]\n",
    "            output[8] = number[8]\n",
    "          else:\n",
    "            output[8] = \"X\"\n",
    "  \n",
    "          if guess[9] == number[9]\n",
    "            output[9] = number[9]\n",
    "          else:\n",
    "            output[9] = \"X\"\n",
    "      \n",
    "          print(output)\n",
    "      \n",
    "          x = input(\"Please input 4 digit guess. \")\n",
    "          guess = [int(a) for a in str(x)] #takes each number that you inputed and puts it into a list\n",
    "      \n",
    "      if counter >= 5:\n",
    "          print(\"Good Job! You finished in \" + str(counter) + \" tries. \")\n",
    "      \n",
    "      elif counter <= 5 and counter >= 2:\n",
    "          print(\"You are truly a mastermind! You finished in \" + str(counter) + \" tries. \")\n",
    "      \n",
    "      elif counter == 1:\n",
    "          print(\"I nominate you for the nobel prize, you finished in  \" + str(counter) + \" try.\")\n",
    "      "
   ]
  },
  {
   "cell_type": "code",
   "execution_count": 0,
   "metadata": {
    "collapsed": false
   },
   "outputs": [
   ],
   "source": [
    "lst = []\n",
    "\n",
    "lst.append(1)\n",
    "lst.append(1)\n",
    "print(lst)"
   ]
  },
  {
   "cell_type": "markdown",
   "metadata": {
    "collapsed": false
   },
   "source": [
   ]
  },
  {
   "cell_type": "markdown",
   "metadata": {
    "cocalc": {
     "outputs": {
      "0": {
       "name": "input",
       "opts": {
        "password": false,
        "prompt": "Give me a 4 digit number"
       },
       "output_type": "stream",
       "value": "1023"
      },
      "2": {
       "name": "input",
       "opts": {
        "password": false,
        "prompt": "Give me a 4 digit number"
       },
       "output_type": "stream",
       "value": "0418"
      },
      "4": {
       "name": "input",
       "opts": {
        "password": false,
        "prompt": "Give me a 4 digit number"
       },
       "output_type": "stream",
       "value": "0123"
      },
      "5": {
       "name": "input",
       "opts": {
        "password": false,
        "prompt": "Give me a 4 digit number"
       },
       "output_type": "stream"
      },
      "8": {
       "name": "input",
       "opts": {
        "password": false,
        "prompt": "Give me a 4 digit number"
       },
       "output_type": "stream"
      }
     }
    },
    "collapsed": false
   },
   "source": [
    "##### from random import randint\n",
    "\n",
    "x1 = randint(0, 9)\n",
    "x2 = randint(0,9)\n",
    "x3 = randint(0,9)\n",
    "x4 = randint(0,9)\n",
    "start= True\n",
    "while start == True:\n",
    "    guess = input(\"Give me a 4 digit number\")\n",
    "    x = [int(a) for a in str(guess)] #takes each number that you inputed and puts it into a list\n",
    "    if x[0] == x1:\n",
    "        print(x1, end=\"\")\n",
    "    else:\n",
    "        print('#', end=\"\")\n",
    "    if x[1] == x2:\n",
    "        print(x2, end='')\n",
    "    else:\n",
    "        print('#', end=\"\")\n",
    "    if x[2] == x3:\n",
    "        print(x3, end='')\n",
    "    else:\n",
    "        print('#', end=\"\")\n",
    "    if x[3] == x4:\n",
    "        print(x4, end='')\n",
    "    else:\n",
    "        print('#', end=\"\")\n",
    "    if guess == str(x1)+str(x2)+str(x3)+str(x4):\n",
    "        print(\"You won the game or something\")\n",
    "        start=False\n",
    "\n"
   ]
  },
  {
   "cell_type": "code",
   "execution_count": 0,
   "metadata": {
    "collapsed": false
   },
   "outputs": [
   ],
   "source": [
    "from random import randint\n",
    "x1 = randint(0, 9)\n",
    "x2 = randint(0,9)\n",
    "x3 = randint(0,9)\n",
    "x4 = randint(0,9)\n",
    "start= True\n",
    "while start == True:\n",
    "    guess = input(\"Give me a 4 digit number\")\n",
    "    x = [int(a) for a in str(guess)] #takes each number that you inputed and puts it into a list\n",
    "    if x[0] == x1:\n",
    "        print(x1, end=\"\")\n",
    "    else:\n",
    "        print('#', end=\"\")\n",
    "    if x[1] == x2:\n",
    "        print(x2, end='')\n",
    "    else:\n",
    "        print('#', end=\"\")\n",
    "    if x[2] == x3:\n",
    "        print(x3, end='')\n",
    "    else:\n",
    "        print('#', end=\"\")\n",
    "    if x[3] == x4:\n",
    "        print(x4, end='')\n",
    "    else:\n",
    "        print('#', end=\"\")\n",
    "    if guess == str(x1)+str(x2)+str(x3)+str(x4):\n",
    "        print(\"You won the game or something\")\n",
    "        start=False"
   ]
  },
  {
   "cell_type": "markdown",
   "metadata": {
    "collapsed": false
   },
   "source": [
    "##### If you want to go further, you can find the next instructions here - https://www.geeksforgeeks.org/mastermind-game-using-python/\n",
    "\n"
   ]
  }
 ],
 "metadata": {
  "colab": {
   "name": "Mastermind.ipynb",
   "provenance": [
   ]
  },
  "kernelspec": {
   "display_name": "Python 3 (SageMath)",
   "language": "python",
   "name": "python3-sage",
   "resource_dir": "/usr/local/share/jupyter/kernels/python3-sage"
  },
  "language_info": {
   "codemirror_mode": {
    "name": "ipython",
    "version": 3
   },
   "file_extension": ".py",
   "mimetype": "text/x-python",
   "name": "python",
   "nbconvert_exporter": "python",
   "pygments_lexer": "ipython3",
   "version": "3.8.10"
  }
 },
 "nbformat": 4,
 "nbformat_minor": 4
}